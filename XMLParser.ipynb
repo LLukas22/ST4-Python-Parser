{
 "cells": [
  {
   "cell_type": "code",
   "execution_count": 1,
   "metadata": {},
   "outputs": [],
   "source": [
    "import xmlschema\n",
    "from pprint import pprint"
   ]
  },
  {
   "cell_type": "code",
   "execution_count": 2,
   "metadata": {},
   "outputs": [],
   "source": []
  },
  {
   "cell_type": "code",
   "execution_count": 9,
   "metadata": {},
   "outputs": [],
   "source": [
    "import os\n",
    "import xml.etree.ElementTree as ET\n",
    "\n",
    "# Parse the XML data\n",
    "tree = ET.parse(\"T450_Betriebsanleitung.xml\")\n",
    "root = tree.getroot()\n",
    "\n",
    "n = dict(root.attrib.items())\n",
    "\n",
    "def get_root_and_namespaces(xml_file):\n",
    "    namespaces = {}\n",
    "    for event, elem in ET.iterparse(xml_file, events=(\"start\", \"start-ns\")):\n",
    "        if event == \"start-ns\":\n",
    "            prefix, url = elem\n",
    "            namespaces[prefix] = url\n",
    "    return namespaces\n",
    "\n",
    "namespaces = get_root_and_namespaces(\"T450_Betriebsanleitung.xml\")\n",
    "\n",
    "# Find all 'n:Data-Content' elements\n",
    "data_content_elements = root.findall(\".//n:SystemFolder\",namespaces)\n",
    "\n",
    "# Iterate over the 'n:Data-Content' elements\n",
    "for data_content in data_content_elements:\n",
    "\n",
    "    # Find all 'n:Value' elements within 'n:Data-Content'\n",
    "    value_elements = data_content.findall(\".//n:Value\",namespaces)\n",
    "\n",
    "    # Iterate over the 'n:Value' elements\n",
    "    for value in value_elements:\n",
    "        # Get the language (aspect) and content\n",
    "        language = value.get(\"n:Aspect\",namespaces)\n",
    "        content = value.find(\" .//content\",namespaces)\n",
    "\n",
    "        # If content exists, print the language and content\n",
    "        if content is not None:\n",
    "            print(f\"Language: {language}\")\n",
    "            print(f\"Content: {ET.tostring(content, encoding='unicode')}\")\n",
    "            print()\n",
    "\n"
   ]
  }
 ],
 "metadata": {
  "kernelspec": {
   "display_name": "Python 3",
   "language": "python",
   "name": "python3"
  },
  "language_info": {
   "codemirror_mode": {
    "name": "ipython",
    "version": 3
   },
   "file_extension": ".py",
   "mimetype": "text/x-python",
   "name": "python",
   "nbconvert_exporter": "python",
   "pygments_lexer": "ipython3",
   "version": "3.10.10"
  },
  "orig_nbformat": 4
 },
 "nbformat": 4,
 "nbformat_minor": 2
}
